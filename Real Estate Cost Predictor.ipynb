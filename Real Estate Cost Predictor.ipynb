{
 "cells": [
  {
   "cell_type": "markdown",
   "id": "16186b05",
   "metadata": {},
   "source": [
    "## Real Estate Cost Predictor"
   ]
  },
  {
   "cell_type": "code",
   "execution_count": 2,
   "id": "0d203e1c",
   "metadata": {},
   "outputs": [],
   "source": [
    "import pandas as pd"
   ]
  },
  {
   "cell_type": "code",
   "execution_count": 3,
   "id": "e89c989f",
   "metadata": {},
   "outputs": [],
   "source": [
    "housing = pd.read_csv(\"Mumbai_2022.csv\")"
   ]
  },
  {
   "cell_type": "code",
   "execution_count": 4,
   "id": "2cc26404",
   "metadata": {},
   "outputs": [
    {
     "data": {
      "text/html": [
       "<div>\n",
       "<style scoped>\n",
       "    .dataframe tbody tr th:only-of-type {\n",
       "        vertical-align: middle;\n",
       "    }\n",
       "\n",
       "    .dataframe tbody tr th {\n",
       "        vertical-align: top;\n",
       "    }\n",
       "\n",
       "    .dataframe thead th {\n",
       "        text-align: right;\n",
       "    }\n",
       "</style>\n",
       "<table border=\"1\" class=\"dataframe\">\n",
       "  <thead>\n",
       "    <tr style=\"text-align: right;\">\n",
       "      <th></th>\n",
       "      <th>location</th>\n",
       "      <th>area</th>\n",
       "      <th>bhk</th>\n",
       "      <th>price</th>\n",
       "    </tr>\n",
       "  </thead>\n",
       "  <tbody>\n",
       "    <tr>\n",
       "      <th>0</th>\n",
       "      <td>Malad East</td>\n",
       "      <td>469</td>\n",
       "      <td>1</td>\n",
       "      <td>10100000</td>\n",
       "    </tr>\n",
       "    <tr>\n",
       "      <th>1</th>\n",
       "      <td>Ambernath West</td>\n",
       "      <td>459</td>\n",
       "      <td>1</td>\n",
       "      <td>2999000</td>\n",
       "    </tr>\n",
       "    <tr>\n",
       "      <th>2</th>\n",
       "      <td>Borivali West</td>\n",
       "      <td>1751</td>\n",
       "      <td>4</td>\n",
       "      <td>43800000</td>\n",
       "    </tr>\n",
       "    <tr>\n",
       "      <th>3</th>\n",
       "      <td>Andheri East</td>\n",
       "      <td>1076</td>\n",
       "      <td>3</td>\n",
       "      <td>31900000</td>\n",
       "    </tr>\n",
       "    <tr>\n",
       "      <th>4</th>\n",
       "      <td>Ambernath East</td>\n",
       "      <td>485</td>\n",
       "      <td>1</td>\n",
       "      <td>3399000</td>\n",
       "    </tr>\n",
       "  </tbody>\n",
       "</table>\n",
       "</div>"
      ],
      "text/plain": [
       "         location  area  bhk     price\n",
       "0      Malad East   469    1  10100000\n",
       "1  Ambernath West   459    1   2999000\n",
       "2   Borivali West  1751    4  43800000\n",
       "3    Andheri East  1076    3  31900000\n",
       "4  Ambernath East   485    1   3399000"
      ]
     },
     "execution_count": 4,
     "metadata": {},
     "output_type": "execute_result"
    }
   ],
   "source": [
    "housing.head()"
   ]
  },
  {
   "cell_type": "code",
   "execution_count": 5,
   "id": "09d90d2a",
   "metadata": {},
   "outputs": [
    {
     "data": {
      "text/plain": [
       "(4000, 4)"
      ]
     },
     "execution_count": 5,
     "metadata": {},
     "output_type": "execute_result"
    }
   ],
   "source": [
    "housing.shape"
   ]
  },
  {
   "cell_type": "code",
   "execution_count": 6,
   "id": "c4d83074",
   "metadata": {},
   "outputs": [
    {
     "data": {
      "text/plain": [
       "Mira Road East    370\n",
       "Thane West        354\n",
       "Andheri West      330\n",
       "Dombivali         158\n",
       "Kharghar          136\n",
       "                 ... \n",
       "Navade              1\n",
       "Owale               1\n",
       "Napeansea Road      1\n",
       "matunga east        1\n",
       "Atgaon              1\n",
       "Name: location, Length: 170, dtype: int64"
      ]
     },
     "execution_count": 6,
     "metadata": {},
     "output_type": "execute_result"
    }
   ],
   "source": [
    "housing[\"location\"].value_counts()"
   ]
  },
  {
   "cell_type": "code",
   "execution_count": 7,
   "id": "c0971a1f",
   "metadata": {},
   "outputs": [
    {
     "data": {
      "text/plain": [
       "1    1896\n",
       "2    1507\n",
       "3     478\n",
       "4     101\n",
       "5      13\n",
       "6       5\n",
       "Name: bhk, dtype: int64"
      ]
     },
     "execution_count": 7,
     "metadata": {},
     "output_type": "execute_result"
    }
   ],
   "source": [
    "housing[\"bhk\"].value_counts()"
   ]
  },
  {
   "cell_type": "code",
   "execution_count": 8,
   "id": "cd68b3e8",
   "metadata": {},
   "outputs": [
    {
     "data": {
      "text/plain": [
       "2000000     270\n",
       "11000000     44\n",
       "4500000      44\n",
       "17500000     41\n",
       "2500000      39\n",
       "           ... \n",
       "2460000       1\n",
       "53000000      1\n",
       "3360000       1\n",
       "1250000       1\n",
       "20200000      1\n",
       "Name: price, Length: 809, dtype: int64"
      ]
     },
     "execution_count": 8,
     "metadata": {},
     "output_type": "execute_result"
    }
   ],
   "source": [
    "housing[\"price\"].value_counts()"
   ]
  },
  {
   "cell_type": "code",
   "execution_count": 9,
   "id": "66cca41e",
   "metadata": {},
   "outputs": [
    {
     "data": {
      "text/plain": [
       "location    0\n",
       "area        0\n",
       "bhk         0\n",
       "price       0\n",
       "dtype: int64"
      ]
     },
     "execution_count": 9,
     "metadata": {},
     "output_type": "execute_result"
    }
   ],
   "source": [
    "housing.isna().sum()"
   ]
  },
  {
   "cell_type": "code",
   "execution_count": 10,
   "id": "66cd0c66",
   "metadata": {},
   "outputs": [
    {
     "data": {
      "text/html": [
       "<div>\n",
       "<style scoped>\n",
       "    .dataframe tbody tr th:only-of-type {\n",
       "        vertical-align: middle;\n",
       "    }\n",
       "\n",
       "    .dataframe tbody tr th {\n",
       "        vertical-align: top;\n",
       "    }\n",
       "\n",
       "    .dataframe thead th {\n",
       "        text-align: right;\n",
       "    }\n",
       "</style>\n",
       "<table border=\"1\" class=\"dataframe\">\n",
       "  <thead>\n",
       "    <tr style=\"text-align: right;\">\n",
       "      <th></th>\n",
       "      <th>area</th>\n",
       "      <th>bhk</th>\n",
       "      <th>price</th>\n",
       "    </tr>\n",
       "  </thead>\n",
       "  <tbody>\n",
       "    <tr>\n",
       "      <th>count</th>\n",
       "      <td>4000.000000</td>\n",
       "      <td>4000.000000</td>\n",
       "      <td>4.000000e+03</td>\n",
       "    </tr>\n",
       "    <tr>\n",
       "      <th>mean</th>\n",
       "      <td>841.170750</td>\n",
       "      <td>1.710750</td>\n",
       "      <td>1.324555e+07</td>\n",
       "    </tr>\n",
       "    <tr>\n",
       "      <th>std</th>\n",
       "      <td>490.021753</td>\n",
       "      <td>0.812557</td>\n",
       "      <td>2.197103e+07</td>\n",
       "    </tr>\n",
       "    <tr>\n",
       "      <th>min</th>\n",
       "      <td>220.000000</td>\n",
       "      <td>1.000000</td>\n",
       "      <td>5.500000e+05</td>\n",
       "    </tr>\n",
       "    <tr>\n",
       "      <th>25%</th>\n",
       "      <td>584.750000</td>\n",
       "      <td>1.000000</td>\n",
       "      <td>3.700000e+06</td>\n",
       "    </tr>\n",
       "    <tr>\n",
       "      <th>50%</th>\n",
       "      <td>697.000000</td>\n",
       "      <td>2.000000</td>\n",
       "      <td>7.500000e+06</td>\n",
       "    </tr>\n",
       "    <tr>\n",
       "      <th>75%</th>\n",
       "      <td>985.000000</td>\n",
       "      <td>2.000000</td>\n",
       "      <td>1.470000e+07</td>\n",
       "    </tr>\n",
       "    <tr>\n",
       "      <th>max</th>\n",
       "      <td>9500.000000</td>\n",
       "      <td>6.000000</td>\n",
       "      <td>5.800000e+08</td>\n",
       "    </tr>\n",
       "  </tbody>\n",
       "</table>\n",
       "</div>"
      ],
      "text/plain": [
       "              area          bhk         price\n",
       "count  4000.000000  4000.000000  4.000000e+03\n",
       "mean    841.170750     1.710750  1.324555e+07\n",
       "std     490.021753     0.812557  2.197103e+07\n",
       "min     220.000000     1.000000  5.500000e+05\n",
       "25%     584.750000     1.000000  3.700000e+06\n",
       "50%     697.000000     2.000000  7.500000e+06\n",
       "75%     985.000000     2.000000  1.470000e+07\n",
       "max    9500.000000     6.000000  5.800000e+08"
      ]
     },
     "execution_count": 10,
     "metadata": {},
     "output_type": "execute_result"
    }
   ],
   "source": [
    "housing.describe()"
   ]
  },
  {
   "cell_type": "code",
   "execution_count": 11,
   "id": "436ca070",
   "metadata": {},
   "outputs": [
    {
     "name": "stdout",
     "output_type": "stream",
     "text": [
      "<class 'pandas.core.frame.DataFrame'>\n",
      "RangeIndex: 4000 entries, 0 to 3999\n",
      "Data columns (total 4 columns):\n",
      " #   Column    Non-Null Count  Dtype \n",
      "---  ------    --------------  ----- \n",
      " 0   location  4000 non-null   object\n",
      " 1   area      4000 non-null   int64 \n",
      " 2   bhk       4000 non-null   int64 \n",
      " 3   price     4000 non-null   int64 \n",
      "dtypes: int64(3), object(1)\n",
      "memory usage: 125.1+ KB\n"
     ]
    }
   ],
   "source": [
    "housing.info()"
   ]
  },
  {
   "cell_type": "markdown",
   "id": "ebc79fc6",
   "metadata": {},
   "source": [
    "## Plotting the data"
   ]
  },
  {
   "cell_type": "code",
   "execution_count": 12,
   "id": "47599563",
   "metadata": {},
   "outputs": [],
   "source": [
    "%matplotlib inline"
   ]
  },
  {
   "cell_type": "code",
   "execution_count": 13,
   "id": "6dc1d256",
   "metadata": {},
   "outputs": [
    {
     "data": {
      "text/plain": [
       "array([[<AxesSubplot: xlabel='area', ylabel='area'>,\n",
       "        <AxesSubplot: xlabel='bhk', ylabel='area'>,\n",
       "        <AxesSubplot: xlabel='price', ylabel='area'>],\n",
       "       [<AxesSubplot: xlabel='area', ylabel='bhk'>,\n",
       "        <AxesSubplot: xlabel='bhk', ylabel='bhk'>,\n",
       "        <AxesSubplot: xlabel='price', ylabel='bhk'>],\n",
       "       [<AxesSubplot: xlabel='area', ylabel='price'>,\n",
       "        <AxesSubplot: xlabel='bhk', ylabel='price'>,\n",
       "        <AxesSubplot: xlabel='price', ylabel='price'>]], dtype=object)"
      ]
     },
     "execution_count": 13,
     "metadata": {},
     "output_type": "execute_result"
    },
    {
     "data": {
      "image/png": "[encoded data removed]",
      "text/plain": [
       "<Figure size 1200x1000 with 9 Axes>"
      ]
     },
     "metadata": {},
     "output_type": "display_data"
    }
   ],
   "source": [
    "from pandas.plotting import scatter_matrix\n",
    "scatter_matrix(housing, figsize=(12,10))"
   ]
  },
  {
   "cell_type": "code",
   "execution_count": 14,
   "id": "71df6923",
   "metadata": {},
   "outputs": [
    {
     "data": {
      "text/html": [
       "<div>\n",
       "<style scoped>\n",
       "    .dataframe tbody tr th:only-of-type {\n",
       "        vertical-align: middle;\n",
       "    }\n",
       "\n",
       "    .dataframe tbody tr th {\n",
       "        vertical-align: top;\n",
       "    }\n",
       "\n",
       "    .dataframe thead th {\n",
       "        text-align: right;\n",
       "    }\n",
       "</style>\n",
       "<table border=\"1\" class=\"dataframe\">\n",
       "  <thead>\n",
       "    <tr style=\"text-align: right;\">\n",
       "      <th></th>\n",
       "      <th>Agripada</th>\n",
       "      <th>Airoli</th>\n",
       "      <th>Ambernath East</th>\n",
       "      <th>Ambernath West</th>\n",
       "      <th>Ambivali</th>\n",
       "      <th>Andheri East</th>\n",
       "      <th>Andheri West</th>\n",
       "      <th>Anjurdive</th>\n",
       "      <th>Atgaon</th>\n",
       "      <th>Badlapur East</th>\n",
       "      <th>...</th>\n",
       "      <th>Ville Parle West</th>\n",
       "      <th>Virar</th>\n",
       "      <th>Virar East</th>\n",
       "      <th>Virar West</th>\n",
       "      <th>Vishnu Nagar</th>\n",
       "      <th>Wada</th>\n",
       "      <th>Wadala</th>\n",
       "      <th>Worli</th>\n",
       "      <th>kasaradavali thane west</th>\n",
       "      <th>matunga east</th>\n",
       "    </tr>\n",
       "  </thead>\n",
       "  <tbody>\n",
       "    <tr>\n",
       "      <th>0</th>\n",
       "      <td>0</td>\n",
       "      <td>0</td>\n",
       "      <td>0</td>\n",
       "      <td>0</td>\n",
       "      <td>0</td>\n",
       "      <td>0</td>\n",
       "      <td>0</td>\n",
       "      <td>0</td>\n",
       "      <td>0</td>\n",
       "      <td>0</td>\n",
       "      <td>...</td>\n",
       "      <td>0</td>\n",
       "      <td>0</td>\n",
       "      <td>0</td>\n",
       "      <td>0</td>\n",
       "      <td>0</td>\n",
       "      <td>0</td>\n",
       "      <td>0</td>\n",
       "      <td>0</td>\n",
       "      <td>0</td>\n",
       "      <td>0</td>\n",
       "    </tr>\n",
       "    <tr>\n",
       "      <th>1</th>\n",
       "      <td>0</td>\n",
       "      <td>0</td>\n",
       "      <td>0</td>\n",
       "      <td>1</td>\n",
       "      <td>0</td>\n",
       "      <td>0</td>\n",
       "      <td>0</td>\n",
       "      <td>0</td>\n",
       "      <td>0</td>\n",
       "      <td>0</td>\n",
       "      <td>...</td>\n",
       "      <td>0</td>\n",
       "      <td>0</td>\n",
       "      <td>0</td>\n",
       "      <td>0</td>\n",
       "      <td>0</td>\n",
       "      <td>0</td>\n",
       "      <td>0</td>\n",
       "      <td>0</td>\n",
       "      <td>0</td>\n",
       "      <td>0</td>\n",
       "    </tr>\n",
       "    <tr>\n",
       "      <th>2</th>\n",
       "      <td>0</td>\n",
       "      <td>0</td>\n",
       "      <td>0</td>\n",
       "      <td>0</td>\n",
       "      <td>0</td>\n",
       "      <td>0</td>\n",
       "      <td>0</td>\n",
       "      <td>0</td>\n",
       "      <td>0</td>\n",
       "      <td>0</td>\n",
       "      <td>...</td>\n",
       "      <td>0</td>\n",
       "      <td>0</td>\n",
       "      <td>0</td>\n",
       "      <td>0</td>\n",
       "      <td>0</td>\n",
       "      <td>0</td>\n",
       "      <td>0</td>\n",
       "      <td>0</td>\n",
       "      <td>0</td>\n",
       "      <td>0</td>\n",
       "    </tr>\n",
       "    <tr>\n",
       "      <th>3</th>\n",
       "      <td>0</td>\n",
       "      <td>0</td>\n",
       "      <td>0</td>\n",
       "      <td>0</td>\n",
       "      <td>0</td>\n",
       "      <td>1</td>\n",
       "      <td>0</td>\n",
       "      <td>0</td>\n",
       "      <td>0</td>\n",
       "      <td>0</td>\n",
       "      <td>...</td>\n",
       "      <td>0</td>\n",
       "      <td>0</td>\n",
       "      <td>0</td>\n",
       "      <td>0</td>\n",
       "      <td>0</td>\n",
       "      <td>0</td>\n",
       "      <td>0</td>\n",
       "      <td>0</td>\n",
       "      <td>0</td>\n",
       "      <td>0</td>\n",
       "    </tr>\n",
       "    <tr>\n",
       "      <th>4</th>\n",
       "      <td>0</td>\n",
       "      <td>0</td>\n",
       "      <td>1</td>\n",
       "      <td>0</td>\n",
       "      <td>0</td>\n",
       "      <td>0</td>\n",
       "      <td>0</td>\n",
       "      <td>0</td>\n",
       "      <td>0</td>\n",
       "      <td>0</td>\n",
       "      <td>...</td>\n",
       "      <td>0</td>\n",
       "      <td>0</td>\n",
       "      <td>0</td>\n",
       "      <td>0</td>\n",
       "      <td>0</td>\n",
       "      <td>0</td>\n",
       "      <td>0</td>\n",
       "      <td>0</td>\n",
       "      <td>0</td>\n",
       "      <td>0</td>\n",
       "    </tr>\n",
       "  </tbody>\n",
       "</table>\n",
       "<p>5 rows × 170 columns</p>\n",
       "</div>"
      ],
      "text/plain": [
       "   Agripada  Airoli  Ambernath East  Ambernath West  Ambivali  Andheri East  \\\n",
       "0         0       0               0               0         0             0   \n",
       "1         0       0               0               1         0             0   \n",
       "2         0       0               0               0         0             0   \n",
       "3         0       0               0               0         0             1   \n",
       "4         0       0               1               0         0             0   \n",
       "\n",
       "   Andheri West  Anjurdive  Atgaon  Badlapur East  ...  Ville Parle West  \\\n",
       "0             0          0       0              0  ...                 0   \n",
       "1             0          0       0              0  ...                 0   \n",
       "2             0          0       0              0  ...                 0   \n",
       "3             0          0       0              0  ...                 0   \n",
       "4             0          0       0              0  ...                 0   \n",
       "\n",
       "   Virar  Virar East  Virar West  Vishnu Nagar  Wada  Wadala  Worli  \\\n",
       "0      0           0           0             0     0       0      0   \n",
       "1      0           0           0             0     0       0      0   \n",
       "2      0           0           0             0     0       0      0   \n",
       "3      0           0           0             0     0       0      0   \n",
       "4      0           0           0             0     0       0      0   \n",
       "\n",
       "   kasaradavali thane west  matunga east  \n",
       "0                        0             0  \n",
       "1                        0             0  \n",
       "2                        0             0  \n",
       "3                        0             0  \n",
       "4                        0             0  \n",
       "\n",
       "[5 rows x 170 columns]"
      ]
     },
     "execution_count": 14,
     "metadata": {},
     "output_type": "execute_result"
    }
   ],
   "source": [
    "dummies = pd.get_dummies(housing.location)\n",
    "dummies.head()"
   ]
  },
  {
   "cell_type": "code",
   "execution_count": 15,
   "id": "07e5a89b",
   "metadata": {},
   "outputs": [
    {
     "data": {
      "text/html": [
       "<div>\n",
       "<style scoped>\n",
       "    .dataframe tbody tr th:only-of-type {\n",
       "        vertical-align: middle;\n",
       "    }\n",
       "\n",
       "    .dataframe tbody tr th {\n",
       "        vertical-align: top;\n",
       "    }\n",
       "\n",
       "    .dataframe thead th {\n",
       "        text-align: right;\n",
       "    }\n",
       "</style>\n",
       "<table border=\"1\" class=\"dataframe\">\n",
       "  <thead>\n",
       "    <tr style=\"text-align: right;\">\n",
       "      <th></th>\n",
       "      <th>location</th>\n",
       "      <th>area</th>\n",
       "      <th>bhk</th>\n",
       "      <th>price</th>\n",
       "      <th>Agripada</th>\n",
       "      <th>Airoli</th>\n",
       "      <th>Ambernath East</th>\n",
       "      <th>Ambernath West</th>\n",
       "      <th>Ambivali</th>\n",
       "      <th>Andheri East</th>\n",
       "      <th>...</th>\n",
       "      <th>Ville Parle West</th>\n",
       "      <th>Virar</th>\n",
       "      <th>Virar East</th>\n",
       "      <th>Virar West</th>\n",
       "      <th>Vishnu Nagar</th>\n",
       "      <th>Wada</th>\n",
       "      <th>Wadala</th>\n",
       "      <th>Worli</th>\n",
       "      <th>kasaradavali thane west</th>\n",
       "      <th>matunga east</th>\n",
       "    </tr>\n",
       "  </thead>\n",
       "  <tbody>\n",
       "    <tr>\n",
       "      <th>0</th>\n",
       "      <td>Malad East</td>\n",
       "      <td>469</td>\n",
       "      <td>1</td>\n",
       "      <td>10100000</td>\n",
       "      <td>0</td>\n",
       "      <td>0</td>\n",
       "      <td>0</td>\n",
       "      <td>0</td>\n",
       "      <td>0</td>\n",
       "      <td>0</td>\n",
       "      <td>...</td>\n",
       "      <td>0</td>\n",
       "      <td>0</td>\n",
       "      <td>0</td>\n",
       "      <td>0</td>\n",
       "      <td>0</td>\n",
       "      <td>0</td>\n",
       "      <td>0</td>\n",
       "      <td>0</td>\n",
       "      <td>0</td>\n",
       "      <td>0</td>\n",
       "    </tr>\n",
       "    <tr>\n",
       "      <th>1</th>\n",
       "      <td>Ambernath West</td>\n",
       "      <td>459</td>\n",
       "      <td>1</td>\n",
       "      <td>2999000</td>\n",
       "      <td>0</td>\n",
       "      <td>0</td>\n",
       "      <td>0</td>\n",
       "      <td>1</td>\n",
       "      <td>0</td>\n",
       "      <td>0</td>\n",
       "      <td>...</td>\n",
       "      <td>0</td>\n",
       "      <td>0</td>\n",
       "      <td>0</td>\n",
       "      <td>0</td>\n",
       "      <td>0</td>\n",
       "      <td>0</td>\n",
       "      <td>0</td>\n",
       "      <td>0</td>\n",
       "      <td>0</td>\n",
       "      <td>0</td>\n",
       "    </tr>\n",
       "    <tr>\n",
       "      <th>2</th>\n",
       "      <td>Borivali West</td>\n",
       "      <td>1751</td>\n",
       "      <td>4</td>\n",
       "      <td>43800000</td>\n",
       "      <td>0</td>\n",
       "      <td>0</td>\n",
       "      <td>0</td>\n",
       "      <td>0</td>\n",
       "      <td>0</td>\n",
       "      <td>0</td>\n",
       "      <td>...</td>\n",
       "      <td>0</td>\n",
       "      <td>0</td>\n",
       "      <td>0</td>\n",
       "      <td>0</td>\n",
       "      <td>0</td>\n",
       "      <td>0</td>\n",
       "      <td>0</td>\n",
       "      <td>0</td>\n",
       "      <td>0</td>\n",
       "      <td>0</td>\n",
       "    </tr>\n",
       "    <tr>\n",
       "      <th>3</th>\n",
       "      <td>Andheri East</td>\n",
       "      <td>1076</td>\n",
       "      <td>3</td>\n",
       "      <td>31900000</td>\n",
       "      <td>0</td>\n",
       "      <td>0</td>\n",
       "      <td>0</td>\n",
       "      <td>0</td>\n",
       "      <td>0</td>\n",
       "      <td>1</td>\n",
       "      <td>...</td>\n",
       "      <td>0</td>\n",
       "      <td>0</td>\n",
       "      <td>0</td>\n",
       "      <td>0</td>\n",
       "      <td>0</td>\n",
       "      <td>0</td>\n",
       "      <td>0</td>\n",
       "      <td>0</td>\n",
       "      <td>0</td>\n",
       "      <td>0</td>\n",
       "    </tr>\n",
       "    <tr>\n",
       "      <th>4</th>\n",
       "      <td>Ambernath East</td>\n",
       "      <td>485</td>\n",
       "      <td>1</td>\n",
       "      <td>3399000</td>\n",
       "      <td>0</td>\n",
       "      <td>0</td>\n",
       "      <td>1</td>\n",
       "      <td>0</td>\n",
       "      <td>0</td>\n",
       "      <td>0</td>\n",
       "      <td>...</td>\n",
       "      <td>0</td>\n",
       "      <td>0</td>\n",
       "      <td>0</td>\n",
       "      <td>0</td>\n",
       "      <td>0</td>\n",
       "      <td>0</td>\n",
       "      <td>0</td>\n",
       "      <td>0</td>\n",
       "      <td>0</td>\n",
       "      <td>0</td>\n",
       "    </tr>\n",
       "  </tbody>\n",
       "</table>\n",
       "<p>5 rows × 174 columns</p>\n",
       "</div>"
      ],
      "text/plain": [
       "         location  area  bhk     price  Agripada  Airoli  Ambernath East  \\\n",
       "0      Malad East   469    1  10100000         0       0               0   \n",
       "1  Ambernath West   459    1   2999000         0       0               0   \n",
       "2   Borivali West  1751    4  43800000         0       0               0   \n",
       "3    Andheri East  1076    3  31900000         0       0               0   \n",
       "4  Ambernath East   485    1   3399000         0       0               1   \n",
       "\n",
       "   Ambernath West  Ambivali  Andheri East  ...  Ville Parle West  Virar  \\\n",
       "0               0         0             0  ...                 0      0   \n",
       "1               1         0             0  ...                 0      0   \n",
       "2               0         0             0  ...                 0      0   \n",
       "3               0         0             1  ...                 0      0   \n",
       "4               0         0             0  ...                 0      0   \n",
       "\n",
       "   Virar East  Virar West  Vishnu Nagar  Wada  Wadala  Worli  \\\n",
       "0           0           0             0     0       0      0   \n",
       "1           0           0             0     0       0      0   \n",
       "2           0           0             0     0       0      0   \n",
       "3           0           0             0     0       0      0   \n",
       "4           0           0             0     0       0      0   \n",
       "\n",
       "   kasaradavali thane west  matunga east  \n",
       "0                        0             0  \n",
       "1                        0             0  \n",
       "2                        0             0  \n",
       "3                        0             0  \n",
       "4                        0             0  \n",
       "\n",
       "[5 rows x 174 columns]"
      ]
     },
     "execution_count": 15,
     "metadata": {},
     "output_type": "execute_result"
    }
   ],
   "source": [
    "housing = pd.concat([housing,dummies],axis='columns')\n",
    "housing.head()"
   ]
  },
  {
   "cell_type": "code",
   "execution_count": 16,
   "id": "a2061541",
   "metadata": {},
   "outputs": [
    {
     "data": {
      "text/html": [
       "<div>\n",
       "<style scoped>\n",
       "    .dataframe tbody tr th:only-of-type {\n",
       "        vertical-align: middle;\n",
       "    }\n",
       "\n",
       "    .dataframe tbody tr th {\n",
       "        vertical-align: top;\n",
       "    }\n",
       "\n",
       "    .dataframe thead th {\n",
       "        text-align: right;\n",
       "    }\n",
       "</style>\n",
       "<table border=\"1\" class=\"dataframe\">\n",
       "  <thead>\n",
       "    <tr style=\"text-align: right;\">\n",
       "      <th></th>\n",
       "      <th>area</th>\n",
       "      <th>bhk</th>\n",
       "      <th>price</th>\n",
       "      <th>Agripada</th>\n",
       "      <th>Airoli</th>\n",
       "      <th>Ambernath East</th>\n",
       "      <th>Ambernath West</th>\n",
       "      <th>Ambivali</th>\n",
       "      <th>Andheri East</th>\n",
       "      <th>Andheri West</th>\n",
       "      <th>...</th>\n",
       "      <th>Ville Parle West</th>\n",
       "      <th>Virar</th>\n",
       "      <th>Virar East</th>\n",
       "      <th>Virar West</th>\n",
       "      <th>Vishnu Nagar</th>\n",
       "      <th>Wada</th>\n",
       "      <th>Wadala</th>\n",
       "      <th>Worli</th>\n",
       "      <th>kasaradavali thane west</th>\n",
       "      <th>matunga east</th>\n",
       "    </tr>\n",
       "  </thead>\n",
       "  <tbody>\n",
       "    <tr>\n",
       "      <th>0</th>\n",
       "      <td>469</td>\n",
       "      <td>1</td>\n",
       "      <td>10100000</td>\n",
       "      <td>0</td>\n",
       "      <td>0</td>\n",
       "      <td>0</td>\n",
       "      <td>0</td>\n",
       "      <td>0</td>\n",
       "      <td>0</td>\n",
       "      <td>0</td>\n",
       "      <td>...</td>\n",
       "      <td>0</td>\n",
       "      <td>0</td>\n",
       "      <td>0</td>\n",
       "      <td>0</td>\n",
       "      <td>0</td>\n",
       "      <td>0</td>\n",
       "      <td>0</td>\n",
       "      <td>0</td>\n",
       "      <td>0</td>\n",
       "      <td>0</td>\n",
       "    </tr>\n",
       "    <tr>\n",
       "      <th>1</th>\n",
       "      <td>459</td>\n",
       "      <td>1</td>\n",
       "      <td>2999000</td>\n",
       "      <td>0</td>\n",
       "      <td>0</td>\n",
       "      <td>0</td>\n",
       "      <td>1</td>\n",
       "      <td>0</td>\n",
       "      <td>0</td>\n",
       "      <td>0</td>\n",
       "      <td>...</td>\n",
       "      <td>0</td>\n",
       "      <td>0</td>\n",
       "      <td>0</td>\n",
       "      <td>0</td>\n",
       "      <td>0</td>\n",
       "      <td>0</td>\n",
       "      <td>0</td>\n",
       "      <td>0</td>\n",
       "      <td>0</td>\n",
       "      <td>0</td>\n",
       "    </tr>\n",
       "    <tr>\n",
       "      <th>2</th>\n",
       "      <td>1751</td>\n",
       "      <td>4</td>\n",
       "      <td>43800000</td>\n",
       "      <td>0</td>\n",
       "      <td>0</td>\n",
       "      <td>0</td>\n",
       "      <td>0</td>\n",
       "      <td>0</td>\n",
       "      <td>0</td>\n",
       "      <td>0</td>\n",
       "      <td>...</td>\n",
       "      <td>0</td>\n",
       "      <td>0</td>\n",
       "      <td>0</td>\n",
       "      <td>0</td>\n",
       "      <td>0</td>\n",
       "      <td>0</td>\n",
       "      <td>0</td>\n",
       "      <td>0</td>\n",
       "      <td>0</td>\n",
       "      <td>0</td>\n",
       "    </tr>\n",
       "    <tr>\n",
       "      <th>3</th>\n",
       "      <td>1076</td>\n",
       "      <td>3</td>\n",
       "      <td>31900000</td>\n",
       "      <td>0</td>\n",
       "      <td>0</td>\n",
       "      <td>0</td>\n",
       "      <td>0</td>\n",
       "      <td>0</td>\n",
       "      <td>1</td>\n",
       "      <td>0</td>\n",
       "      <td>...</td>\n",
       "      <td>0</td>\n",
       "      <td>0</td>\n",
       "      <td>0</td>\n",
       "      <td>0</td>\n",
       "      <td>0</td>\n",
       "      <td>0</td>\n",
       "      <td>0</td>\n",
       "      <td>0</td>\n",
       "      <td>0</td>\n",
       "      <td>0</td>\n",
       "    </tr>\n",
       "    <tr>\n",
       "      <th>4</th>\n",
       "      <td>485</td>\n",
       "      <td>1</td>\n",
       "      <td>3399000</td>\n",
       "      <td>0</td>\n",
       "      <td>0</td>\n",
       "      <td>1</td>\n",
       "      <td>0</td>\n",
       "      <td>0</td>\n",
       "      <td>0</td>\n",
       "      <td>0</td>\n",
       "      <td>...</td>\n",
       "      <td>0</td>\n",
       "      <td>0</td>\n",
       "      <td>0</td>\n",
       "      <td>0</td>\n",
       "      <td>0</td>\n",
       "      <td>0</td>\n",
       "      <td>0</td>\n",
       "      <td>0</td>\n",
       "      <td>0</td>\n",
       "      <td>0</td>\n",
       "    </tr>\n",
       "  </tbody>\n",
       "</table>\n",
       "<p>5 rows × 173 columns</p>\n",
       "</div>"
      ],
      "text/plain": [
       "   area  bhk     price  Agripada  Airoli  Ambernath East  Ambernath West  \\\n",
       "0   469    1  10100000         0       0               0               0   \n",
       "1   459    1   2999000         0       0               0               1   \n",
       "2  1751    4  43800000         0       0               0               0   \n",
       "3  1076    3  31900000         0       0               0               0   \n",
       "4   485    1   3399000         0       0               1               0   \n",
       "\n",
       "   Ambivali  Andheri East  Andheri West  ...  Ville Parle West  Virar  \\\n",
       "0         0             0             0  ...                 0      0   \n",
       "1         0             0             0  ...                 0      0   \n",
       "2         0             0             0  ...                 0      0   \n",
       "3         0             1             0  ...                 0      0   \n",
       "4         0             0             0  ...                 0      0   \n",
       "\n",
       "   Virar East  Virar West  Vishnu Nagar  Wada  Wadala  Worli  \\\n",
       "0           0           0             0     0       0      0   \n",
       "1           0           0             0     0       0      0   \n",
       "2           0           0             0     0       0      0   \n",
       "3           0           0             0     0       0      0   \n",
       "4           0           0             0     0       0      0   \n",
       "\n",
       "   kasaradavali thane west  matunga east  \n",
       "0                        0             0  \n",
       "1                        0             0  \n",
       "2                        0             0  \n",
       "3                        0             0  \n",
       "4                        0             0  \n",
       "\n",
       "[5 rows x 173 columns]"
      ]
     },
     "execution_count": 16,
     "metadata": {},
     "output_type": "execute_result"
    }
   ],
   "source": [
    "housing.drop('location',axis='columns',inplace=True)\n",
    "housing.head()"
   ]
  },
  {
   "cell_type": "code",
   "execution_count": 17,
   "id": "99a1bb56",
   "metadata": {},
   "outputs": [],
   "source": [
    "x = housing.drop('price',axis=1)\n",
    "y = housing['price']"
   ]
  },
  {
   "cell_type": "code",
   "execution_count": 18,
   "id": "ef6f6851",
   "metadata": {},
   "outputs": [
    {
     "data": {
      "text/plain": [
       "(4000, 172)"
      ]
     },
     "execution_count": 18,
     "metadata": {},
     "output_type": "execute_result"
    }
   ],
   "source": [
    "x.shape"
   ]
  },
  {
   "cell_type": "code",
   "execution_count": 19,
   "id": "09bacbdc",
   "metadata": {},
   "outputs": [
    {
     "data": {
      "text/plain": [
       "(4000,)"
      ]
     },
     "execution_count": 19,
     "metadata": {},
     "output_type": "execute_result"
    }
   ],
   "source": [
    "y.shape"
   ]
  },
  {
   "cell_type": "markdown",
   "id": "7bb2746d",
   "metadata": {},
   "source": [
    "## Splitting Train-Test Data"
   ]
  },
  {
   "cell_type": "code",
   "execution_count": 20,
   "id": "8faed6b3",
   "metadata": {},
   "outputs": [],
   "source": [
    "# train_set, test_set = split_train_test(housing, 0.2)"
   ]
  },
  {
   "cell_type": "code",
   "execution_count": 21,
   "id": "a29ef622",
   "metadata": {},
   "outputs": [],
   "source": [
    "from sklearn.model_selection import train_test_split\n",
    "X_train,X_test,y_train,y_test = train_test_split(x,y, test_size=0.2,random_state=42)"
   ]
  },
  {
   "cell_type": "code",
   "execution_count": 22,
   "id": "c37f7a40",
   "metadata": {},
   "outputs": [
    {
     "name": "stdout",
     "output_type": "stream",
     "text": [
      "No. of values in:\n",
      "X_train: 3200 , X_test 800\n",
      "y_train: 3200 , y_test 800\n"
     ]
    }
   ],
   "source": [
    "print(f\"No. of values in:\\nX_train: {len(X_train)} , X_test {len(X_test)}\\ny_train: {len(y_train)} , y_test {len(y_test)}\")"
   ]
  },
  {
   "cell_type": "code",
   "execution_count": 23,
   "id": "26951ed2",
   "metadata": {},
   "outputs": [
    {
     "name": "stdout",
     "output_type": "stream",
     "text": [
      "(3200, 172)\n",
      "(800, 172)\n"
     ]
    }
   ],
   "source": [
    "print(X_train.shape)\n",
    "print(X_test.shape)"
   ]
  },
  {
   "cell_type": "markdown",
   "id": "c35cec11",
   "metadata": {},
   "source": [
    "## Applying Linear Regression"
   ]
  },
  {
   "cell_type": "code",
   "execution_count": 24,
   "id": "d3963ff3",
   "metadata": {},
   "outputs": [],
   "source": [
    "from sklearn.linear_model import LinearRegression, Lasso, Ridge\n",
    "from sklearn.ensemble import RandomForestRegressor\n",
    "from sklearn.tree import DecisionTreeRegressor"
   ]
  },
  {
   "cell_type": "code",
   "execution_count": 25,
   "id": "a23eb736",
   "metadata": {},
   "outputs": [
    {
     "name": "stderr",
     "output_type": "stream",
     "text": [
      "C:\\Users\\admin\\AppData\\Roaming\\Python\\Python310\\site-packages\\sklearn\\base.py:443: UserWarning: X has feature names, but LinearRegression was fitted without feature names\n",
      "  warnings.warn(\n"
     ]
    },
    {
     "data": {
      "text/plain": [
       "-298145551958317.25"
      ]
     },
     "execution_count": 25,
     "metadata": {},
     "output_type": "execute_result"
    }
   ],
   "source": [
    "lr = LinearRegression()\n",
    "lr.fit(X_train.values,y_train.values)\n",
    "lr.score(X_test,y_test)"
   ]
  },
  {
   "cell_type": "code",
   "execution_count": 26,
   "id": "0f597d15",
   "metadata": {},
   "outputs": [
    {
     "data": {
      "text/plain": [
       "0.7901421068835554"
      ]
     },
     "execution_count": 26,
     "metadata": {},
     "output_type": "execute_result"
    }
   ],
   "source": [
    "ridge_reg = Ridge(alpha = 0.1)\n",
    "ridge_reg.fit(X_train, y_train)\n",
    "ridge_reg.score(X_test, y_test)"
   ]
  },
  {
   "cell_type": "code",
   "execution_count": 27,
   "id": "e1ff52b3",
   "metadata": {},
   "outputs": [
    {
     "name": "stderr",
     "output_type": "stream",
     "text": [
      "C:\\Users\\admin\\AppData\\Roaming\\Python\\Python310\\site-packages\\sklearn\\linear_model\\_coordinate_descent.py:648: ConvergenceWarning: Objective did not converge. You might want to increase the number of iterations, check the scale of the features or consider increasing regularisation. Duality gap: 1.223e+16, tolerance: 1.226e+14\n",
      "  model = cd_fast.enet_coordinate_descent(\n",
      "C:\\Users\\admin\\AppData\\Roaming\\Python\\Python310\\site-packages\\sklearn\\base.py:443: UserWarning: X has feature names, but Lasso was fitted without feature names\n",
      "  warnings.warn(\n"
     ]
    },
    {
     "data": {
      "text/plain": [
       "0.7896030452967426"
      ]
     },
     "execution_count": 27,
     "metadata": {},
     "output_type": "execute_result"
    }
   ],
   "source": [
    "lasso_reg = Lasso(alpha = 0.1)\n",
    "lasso_reg.fit(X_train.values, y_train.values)\n",
    "lasso_reg.score(X_test, y_test)"
   ]
  },
  {
   "cell_type": "code",
   "execution_count": 28,
   "id": "9baf2e19",
   "metadata": {},
   "outputs": [
    {
     "data": {
      "text/plain": [
       "0.6760970613265711"
      ]
     },
     "execution_count": 28,
     "metadata": {},
     "output_type": "execute_result"
    }
   ],
   "source": [
    "rf_reg = RandomForestRegressor()\n",
    "rf_reg.fit(X_train, y_train)\n",
    "rf_reg.score(X_test, y_test)"
   ]
  },
  {
   "cell_type": "code",
   "execution_count": 29,
   "id": "49824339",
   "metadata": {},
   "outputs": [
    {
     "data": {
      "text/plain": [
       "0.615196347378267"
      ]
     },
     "execution_count": 29,
     "metadata": {},
     "output_type": "execute_result"
    }
   ],
   "source": [
    "dt_reg = DecisionTreeRegressor()\n",
    "dt_reg.fit(X_train, y_train)\n",
    "dt_reg.score(X_test, y_test)"
   ]
  },
  {
   "cell_type": "code",
   "execution_count": 30,
   "id": "f7475959",
   "metadata": {},
   "outputs": [
    {
     "data": {
      "text/plain": [
       "array([ 3.61405667e+05,  3.01499034e+06,  3.56519464e+06,  5.04747459e+07,\n",
       "        5.22169960e+06,  1.31860800e+07,  8.18897639e+07,  8.96696652e+06,\n",
       "        1.28856609e+07,  6.83822798e+06,  2.68533336e+07,  1.41714469e+07,\n",
       "        6.83822798e+06,  1.00798808e+07,  9.44292411e+06,  2.30788202e+07,\n",
       "        6.83822798e+06,  2.71596770e+07, -2.80458525e+05,  3.28982729e+06,\n",
       "        5.68525465e+06,  4.06783043e+06, -8.23081473e+05,  1.41714469e+07,\n",
       "       -1.38721917e+06,  1.01261205e+07,  1.86928041e+07,  9.38818732e+05,\n",
       "        5.95229168e+06,  2.26805309e+07,  6.90682111e+06,  2.49870076e+06,\n",
       "       -1.77525483e+06,  7.41167883e+06,  7.05388319e+07,  1.17011707e+07,\n",
       "        6.83822798e+06,  9.28060901e+06,  1.01073859e+07, -8.79387192e+05,\n",
       "        2.42222225e+07,  1.67799822e+07,  1.14974881e+07,  1.98241461e+06,\n",
       "        1.26979245e+07,  1.37325106e+06,  1.25540227e+07,  9.71521438e+06,\n",
       "       -2.84224483e+06,  1.63933987e+07,  6.83822798e+06,  6.01409890e+06,\n",
       "        6.83822798e+06,  9.48421001e+06,  1.04243811e+07,  6.88175862e+06,\n",
       "        4.47218649e+06,  1.57888712e+07,  1.12499512e+07,  7.06542464e+06,\n",
       "        1.63207489e+07,  1.44139925e+07,  1.19763160e+07, -2.51670760e+06,\n",
       "        9.94622326e+06,  1.06927839e+07,  1.49949084e+07,  1.33558421e+07,\n",
       "        1.31099891e+07, -7.37540961e+05, -3.24921780e+06,  9.28439239e+06,\n",
       "        7.09736744e+05,  8.96923694e+06,  6.83822798e+06,  1.23012770e+07,\n",
       "        4.74175719e+06,  2.58613070e+07,  3.79301973e+07,  1.95263955e+07,\n",
       "        1.03112967e+07,  1.77619896e+07,  1.19614907e+07,  2.92591207e+06,\n",
       "        3.32457256e+06,  6.83822798e+06,  5.85702281e+06,  2.50388377e+06,\n",
       "        2.12118964e+07,  1.16523157e+07,  2.33003853e+07,  2.25642187e+06,\n",
       "        5.48726781e+07,  9.04131800e+05,  1.31099891e+07,  6.83822798e+06,\n",
       "        1.33795598e+07,  3.39390368e+06,  2.01140660e+07,  1.30138432e+06,\n",
       "        1.23012770e+07,  1.05327660e+07,  1.26419303e+07,  5.11313327e+05,\n",
       "        2.28097730e+07,  9.02366273e+06,  1.85321918e+07,  9.90391388e+06,\n",
       "        2.25362920e+07,  8.14287525e+06,  1.33995040e+07,  3.63910609e+07,\n",
       "        4.20261579e+06,  5.26407365e+06,  6.21911120e+06,  4.20261579e+06,\n",
       "        4.13171269e+07,  6.83822798e+06,  7.62273608e+06,  1.90352597e+07,\n",
       "        6.11705840e+05,  1.24345047e+07,  3.49075463e+07,  1.56872938e+07,\n",
       "        5.85702281e+06,  2.00749772e+07,  6.11705840e+05, -2.32647289e+06,\n",
       "        8.74086807e+06,  1.11535573e+07,  1.39023997e+07,  1.93182787e+07,\n",
       "        1.46621324e+08,  5.86256875e+07,  1.50054823e+07,  1.20269449e+07,\n",
       "        2.24669144e+07,  6.86388486e+07,  3.33791392e+06,  1.01606189e+06,\n",
       "        1.78974312e+07,  1.91246551e+07,  6.83822798e+06,  6.37164000e+06,\n",
       "        2.34838336e+06,  8.80715451e+05,  1.19763160e+07,  1.29192140e+07,\n",
       "        3.52868903e+06, -3.06425309e+06,  2.03831132e+07,  5.15461154e+06,\n",
       "       -1.72630244e+05,  2.79754986e+07,  6.84264263e+06, -4.29473094e+05,\n",
       "        6.81127091e+06, -6.65073840e+05,  5.73298810e+06,  2.41788512e+07,\n",
       "        5.18309606e+06,  6.07278576e+06,  2.04076531e+06,  2.86806017e+07,\n",
       "        5.33763471e+06,  2.58519157e+06,  6.83822798e+06,  4.89284055e+06,\n",
       "        1.70495529e+07,  6.83822798e+06,  1.09479458e+07,  1.07255961e+07,\n",
       "        6.62875211e+06,  3.79278206e+06,  6.08432585e+06,  1.91246551e+07,\n",
       "        4.28625947e+05,  4.23332474e+06,  3.14343900e+06,  3.29895870e+06,\n",
       "       -4.11423562e+06,  1.14757399e+07,  1.04839713e+07,  9.60009227e+06,\n",
       "        1.06554877e+07,  2.58519157e+06, -4.29473094e+05,  1.17505955e+07,\n",
       "        1.17587590e+07,  6.83822798e+06,  4.87654254e+06, -2.51670760e+06,\n",
       "        8.53565339e+06,  1.14925649e+07,  5.28089860e+06,  2.37417114e+07,\n",
       "        1.09215253e+07,  1.28235934e+07, -5.38121793e+06,  6.56955312e+06,\n",
       "        1.24610278e+07,  5.18309606e+06,  1.99307516e+07,  1.39187012e+07,\n",
       "        1.86443520e+07,  2.30690462e+07, -2.61959861e+06,  5.02286799e+06,\n",
       "        2.90098992e+07,  4.60697184e+06, -1.62218701e+06,  1.99454995e+07,\n",
       "        1.38426729e+07,  1.24953359e+07,  1.04142820e+07,  2.91446845e+07,\n",
       "        2.90305681e+06,  1.35109685e+07, -2.80458525e+05,  1.37768651e+07,\n",
       "        6.83822798e+06,  1.59055244e+05,  2.03019072e+07,  2.06526839e+07,\n",
       "        6.83782384e+07,  9.12597105e+06,  2.47584893e+06,  4.17311442e+07,\n",
       "        3.29854623e+07,  6.83822798e+06,  1.12066927e+07,  3.36441294e+06,\n",
       "        2.35546124e+06,  1.30447082e+08, -3.35068180e+06,  9.32609638e+05,\n",
       "        6.83822798e+06,  1.30477742e+07,  1.61517209e+07,  6.83822798e+06,\n",
       "        6.83822798e+06,  2.61200655e+06,  1.02321815e+07,  2.48803919e+07,\n",
       "        1.12799542e+06, -5.65252359e+06,  4.49909205e+07,  1.17550848e+07,\n",
       "        1.46720231e+07,  1.29646297e+07,  1.99307516e+07,  7.99189761e+06,\n",
       "        1.04625766e+07,  3.87418983e+06,  4.16205119e+07,  2.17496593e+05,\n",
       "        8.85613137e+06,  4.89284055e+06,  4.14376054e+06,  1.15439453e+07,\n",
       "       -1.94921584e+06,  1.74423754e+06,  7.08114243e+07,  1.49104932e+07,\n",
       "        5.74039946e+07,  2.06695088e+07,  5.21037253e+05,  1.39023997e+07,\n",
       "        1.09243908e+07,  3.77973806e+07,  2.15309450e+06,  7.89956601e+06,\n",
       "       -3.57509422e+06,  7.95082024e+06,  1.37465903e+07,  1.93981094e+07,\n",
       "        1.67799822e+07, -5.96019971e+06,  5.10747399e+06,  9.03040619e+06,\n",
       "        1.55875059e+07,  6.83822798e+06,  2.06798163e+06,  1.00199994e+05,\n",
       "        4.62691602e+06,  2.25013409e+06,  8.18897639e+07,  1.46835632e+07,\n",
       "        4.46305573e+06,  1.01321906e+08,  2.01269908e+07,  6.83822798e+06,\n",
       "        6.83822798e+06,  4.10725834e+07,  6.83822798e+06,  1.55193004e+07,\n",
       "        1.17550848e+07, -1.20562322e+06,  3.64150578e+07, -4.29503871e+04,\n",
       "        4.47218649e+06, -1.82241169e+06, -1.59315432e+06, -5.40910081e+05,\n",
       "        2.14133904e+07,  1.41229910e+08,  7.64607007e+06,  4.92611235e+07,\n",
       "        3.17794496e+06,  1.18721404e+07,  2.64685251e+07,  6.53098784e+06,\n",
       "       -9.19885234e+05,  3.28593330e+06,  2.22655560e+07,  3.25911833e+06,\n",
       "        6.83822798e+06, -1.08096999e+06, -5.65252359e+06,  1.83106280e+07,\n",
       "        1.73677301e+07,  1.12940768e+07, -7.18921694e+05,  2.56873555e+07,\n",
       "        1.28241169e+07,  3.01499034e+06,  1.51101717e+07,  6.83822798e+06,\n",
       "        4.74175719e+06,  6.83822798e+06,  6.81127091e+06,  6.83822798e+06,\n",
       "        1.01747125e+08,  4.63193736e+06,  4.68576744e+06,  1.55193004e+07,\n",
       "        3.82355107e+07,  1.67052619e+07, -1.76190963e+06,  1.67240307e+06,\n",
       "        4.67645766e+07,  3.81045526e+07,  2.29863408e+07,  2.64685251e+07,\n",
       "        4.85075716e+06,  7.95082024e+06,  7.12057836e+06,  5.81136835e+06,\n",
       "        1.96188318e+07,  4.36554987e+07,  2.11128113e+07, -2.01381181e+06,\n",
       "        3.93304508e+06,  2.45613910e+07,  1.97622047e+07, -4.31581842e+06,\n",
       "        4.12435886e+06,  1.80192218e+06,  9.42633492e+06,  2.65627388e+07,\n",
       "        5.68561279e+06,  5.82535512e+07, -1.40741316e+06,  1.23897529e+05,\n",
       "        3.65799671e+06,  2.83758543e+07,  5.14063558e+06,  1.00406349e+07,\n",
       "       -2.27255875e+06,  1.75404960e+06,  3.62946016e+07,  4.09279595e+06,\n",
       "        1.44805351e+06,  2.62552024e+07,  1.33795598e+07,  4.67645766e+07,\n",
       "        1.71284391e+06,  8.74475986e+06,  9.62134505e+06,  1.43970927e+07,\n",
       "        3.39390368e+06,  2.94197832e+08,  2.27982329e+07,  1.94530641e+07,\n",
       "        8.34040380e+06,  6.38610594e+06,  5.80321505e+06,  6.83822798e+06,\n",
       "        1.83558596e+07,  5.33227907e+06,  1.69861876e+07, -5.20739329e+06,\n",
       "        1.18098690e+07,  2.05596890e+07,  5.26407365e+06,  6.12369076e+06,\n",
       "        1.29120060e+08,  1.33203608e+07,  2.59807487e+06,  4.34346356e+06,\n",
       "        2.71134203e+07, -5.20739329e+06,  7.92929047e+06,  1.60379413e+07,\n",
       "        1.67799822e+07,  6.96682297e+05,  2.88353551e+06,  6.25666824e+07,\n",
       "        1.19763160e+07,  9.21014506e+06,  1.83558596e+07, -3.67202857e+05,\n",
       "        6.83822798e+06,  1.80802221e+07,  1.30477742e+07, -6.16575721e+06,\n",
       "        5.92956433e+06,  3.55207789e+07,  2.90766871e+07,  1.35143451e+07,\n",
       "        2.49293496e+07,  2.00655369e+07,  2.43395020e+07,  1.00199994e+05,\n",
       "        2.49293496e+07,  6.83822798e+06,  6.81127091e+06,  8.22935138e+06,\n",
       "        6.37396769e+06,  6.83822798e+06,  6.83822798e+06,  7.33338783e+06,\n",
       "        6.86388486e+07,  4.47218649e+06,  1.88889342e+07,  1.06033397e+07,\n",
       "        8.54723131e+06,  6.61080146e+06,  1.32609733e+07,  6.06265363e+06,\n",
       "        8.23257552e+06,  4.71202812e+07,  5.55046930e+06,  1.18318248e+07,\n",
       "        1.44578426e+07,  3.65573554e+07,  1.05763826e+07,  1.59055244e+05,\n",
       "        4.16988921e+07,  2.67185482e+07,  1.19455502e+07, -7.06750836e+04,\n",
       "        5.23711658e+06,  2.52920181e+06, -1.63371220e+06,  1.13563034e+07,\n",
       "        1.16273502e+07,  1.04842369e+07,  1.36322725e+07,  1.26790341e+07,\n",
       "       -4.07400295e+05,  1.75404960e+06,  1.99454995e+07,  1.07492013e+07,\n",
       "        1.66713683e+06,  1.27850281e+07,  3.53038508e+06,  2.81238823e+06,\n",
       "        3.14555831e+07,  4.17311442e+07,  4.21685732e+06,  1.34616027e+07,\n",
       "        2.54515659e+07,  1.39187012e+07,  6.83822798e+06,  3.90530407e+06,\n",
       "        6.68013258e+06,  2.15516387e+07,  1.13308224e+07,  3.11659413e+07,\n",
       "        2.13534996e+07, -3.51152877e+06,  2.47718265e+07,  1.12066927e+07,\n",
       "        1.44140606e+07,  2.14133904e+07,  3.85809437e+06,  2.76763867e+07,\n",
       "       -5.38121793e+06,  6.83822798e+06,  1.60379413e+07,  7.72039118e+06,\n",
       "        3.32457256e+06,  1.63477059e+07,  1.10805003e+07,  2.05596890e+07,\n",
       "        1.46414296e+06,  6.81127091e+06,  2.84432091e+07,  6.52804147e+06,\n",
       "        1.23113159e+07,  1.00798808e+07,  1.34975202e+07,  1.37676144e+07,\n",
       "        1.46621324e+08,  1.95358358e+07,  1.22305379e+07,  1.57092196e+06,\n",
       "        1.44679416e+07, -3.35237678e+06,  2.51206716e+07,  1.59055244e+05,\n",
       "        1.58146273e+07,  2.70125839e+07,  6.83822798e+06, -5.25749971e+06,\n",
       "        1.30229372e+07,  1.17182854e+07,  8.04050223e+06,  1.98241461e+06,\n",
       "        9.95925124e+06,  2.01140660e+07,  5.06480544e+06,  8.24089147e+06,\n",
       "        7.41167883e+06,  1.69680895e+07,  1.44805351e+06,  5.77900917e+06,\n",
       "        1.39023997e+07,  6.20275631e+06,  2.34106358e+06,  2.47584893e+06,\n",
       "        1.49104932e+07,  1.12940768e+07,  5.02286799e+06,  5.71221172e+06,\n",
       "        6.01409890e+06,  1.88645128e+07,  1.00199994e+05,  6.43828657e+06,\n",
       "        8.20561173e+07,  1.27539276e+07,  2.30551876e+07, -3.57509422e+06,\n",
       "        9.04783773e+06,  4.52733130e+07,  9.60648844e+06,  1.44578426e+07,\n",
       "       -2.98377364e+06,  2.25676562e+06,  2.04696867e+06,  1.25431066e+07,\n",
       "        1.28235934e+07,  1.10882088e+07,  1.73351984e+07,  2.45325334e+07,\n",
       "        1.17621356e+07,  4.33211628e+06,  3.82516530e+07,  6.83822798e+06,\n",
       "        1.20639807e+07,  9.04229343e+06,  1.86866750e+07,  6.83822798e+06,\n",
       "        3.52615536e+06,  1.38366350e+06,  5.72644132e+07,  5.45552432e+06,\n",
       "        1.15690190e+07,  1.24981400e+07,  1.14925649e+07,  6.57276236e+06,\n",
       "        5.91037569e+06,  1.31552316e+07,  1.18481924e+08,  1.78673167e+07,\n",
       "        6.83822798e+06, -7.14255891e+06,  2.72179309e+06,  1.99454995e+07,\n",
       "        1.55108644e+07,  6.61192716e+06,  8.57349277e+06,  5.30343321e+06,\n",
       "       -2.73507269e+06,  3.00949181e+06,  1.20904633e+07,  1.00199994e+05,\n",
       "        6.35903931e+06, -5.90446940e+06,  6.34235646e+06,  4.34589943e+06,\n",
       "        8.18577639e+06,  1.28241169e+07,  8.57349277e+06,  1.31687462e+07,\n",
       "        1.33564343e+07,  2.47294083e+06,  6.10590871e+06, -4.70681821e+06,\n",
       "       -4.71946687e+06,  6.61080146e+06,  1.49104932e+07, -2.28338252e+06,\n",
       "        9.39437435e+07,  1.20402046e+07,  1.53627008e+07,  7.16260866e+06,\n",
       "        1.70287650e+06,  5.01224640e+06,  2.20625584e+07,  9.77215530e+06,\n",
       "        8.22305085e+06,  1.66713683e+06,  6.92718980e+05,  8.52728712e+06,\n",
       "        1.41290729e+07,  2.25362920e+07,  4.53898393e+06,  5.54602950e+07,\n",
       "        2.88189103e+07,  2.43454678e+07,  4.82885059e+06,  6.83822798e+06,\n",
       "        6.83822798e+06,  1.92594405e+07,  6.83822798e+06,  6.83822798e+06,\n",
       "       -4.82800276e+06,  9.93210070e+05,  7.61911300e+06,  8.26210872e+04,\n",
       "        1.30667116e+07,  2.13823820e+07,  6.17330389e+06,  2.07149288e+06,\n",
       "        3.09552960e+06, -1.66389341e+06,  3.39390368e+06,  3.30324357e+07,\n",
       "        1.33795598e+07,  2.76410216e+07,  1.89443986e+06,  2.85075305e+07,\n",
       "        6.83822798e+06,  7.50776139e+06,  2.52669971e+07,  1.93317544e+07,\n",
       "        1.00199994e+05,  4.87746104e+06, -5.65252359e+06, -2.82252392e+06,\n",
       "        1.55509117e+07,  1.27844286e+07,  3.35224118e+07,  1.95263955e+07,\n",
       "       -1.41852860e+06,  2.71223808e+07,  3.87418983e+06, -7.63153807e+06,\n",
       "        6.34235646e+06,  1.00199994e+05,  6.55517739e+07,  1.09297733e+08,\n",
       "        9.29867375e+06,  3.19133086e+07,  5.60433193e+07,  1.05441263e+07,\n",
       "        1.05877069e+06,  4.49914356e+06, -1.85196888e+06,  2.53902423e+07,\n",
       "        5.01132789e+06,  1.55396090e+07,  8.57349277e+06, -8.02523848e+06,\n",
       "        1.30689582e+07,  3.03786795e+07,  1.80360822e+07,  5.64967600e+07,\n",
       "        2.31013735e+07,  5.23711658e+06,  5.70155266e+06,  2.17732726e+07,\n",
       "        6.83822798e+06,  1.12680245e+08,  1.96611808e+07,  2.20876595e+07,\n",
       "        2.43053367e+07, -7.77529630e+04, -6.16894368e+05,  4.30845252e+06,\n",
       "        6.83822798e+06,  2.52791679e+07, -2.51670760e+06,  5.26407365e+06,\n",
       "        2.25362920e+07,  1.75660692e+07,  2.02097626e+07,  1.93670753e+06,\n",
       "        6.83822798e+06,  6.83822798e+06,  9.85883920e+06,  6.07278576e+06,\n",
       "        1.00199994e+05,  1.69897316e+07,  7.97660562e+06,  9.10626890e+06,\n",
       "        9.71521438e+06,  9.50149354e+06,  7.79173773e+06,  1.46103624e+07,\n",
       "        3.06001523e+06,  5.55046930e+06,  2.29879592e+06,  9.10673381e+04,\n",
       "       -4.77970822e+06,  3.14555831e+07,  5.02245002e+07,  1.39708893e+06,\n",
       "        1.26611129e+06,  8.97148355e+06, -1.79515995e+06,  9.86108333e+06,\n",
       "        5.26407365e+06,  9.42932904e+06,  3.39390368e+06,  3.79825973e+06,\n",
       "        6.83822798e+06,  1.60314167e+07,  3.23137731e+06,  2.38151854e+07,\n",
       "        3.03207637e+07,  6.23685465e+06,  1.10805003e+07,  5.01132789e+06,\n",
       "        3.14555831e+07,  4.74175719e+06,  1.30229372e+07,  5.55046930e+06,\n",
       "        6.83822798e+06, -2.30572034e+06,  9.35258789e+06,  9.03176296e+06,\n",
       "        2.90305681e+06,  1.95263955e+07,  1.34648680e+07, -2.24163836e+06,\n",
       "        1.12066927e+07,  4.67645766e+07,  2.32571993e+06,  2.84903054e+07,\n",
       "       -1.29861810e+06,  9.17909975e+06, -1.76190963e+06,  2.22194032e+07,\n",
       "       -5.20739329e+06,  3.85860147e+05,  1.70890614e+07,  6.81127091e+06,\n",
       "        1.95358358e+07, -2.58921540e+06,  5.26407365e+06,  2.44492855e+06,\n",
       "       -3.60157833e+06,  1.16273502e+07,  2.58478806e+07,  1.24254883e+07,\n",
       "        3.00949181e+06,  9.13862809e+06,  6.68013258e+06, -2.17607775e+06,\n",
       "        1.29245290e+07,  3.81820392e+06,  2.93105576e+07,  4.08777462e+06,\n",
       "        2.71223808e+07,  8.38208934e+06,  3.91622014e+06,  7.57573322e+06,\n",
       "        1.51356009e+07,  8.18137242e+06,  5.86256875e+07,  2.17496593e+05,\n",
       "        2.56531902e+07,  5.74039946e+07,  1.42396524e+07,  2.01140660e+07,\n",
       "        9.85883920e+06,  1.35796937e+07,  4.48464508e+06,  1.55520330e+06,\n",
       "        6.47034914e+06,  2.49293496e+07,  6.37164000e+06,  2.59807487e+06,\n",
       "        6.83822798e+06,  6.55517739e+07,  4.76137820e+07,  1.60314167e+07])"
      ]
     },
     "execution_count": 30,
     "metadata": {},
     "output_type": "execute_result"
    }
   ],
   "source": [
    "pred = ridge_reg.predict(X_test)\n",
    "pred"
   ]
  },
  {
   "cell_type": "code",
   "execution_count": 31,
   "id": "51a9ba6e",
   "metadata": {},
   "outputs": [
    {
     "data": {
      "text/plain": [
       "555      1740000\n",
       "3491     2450000\n",
       "527      4000000\n",
       "3925    58400000\n",
       "2989    10500000\n",
       "          ...   \n",
       "1922     4120000\n",
       "865      2000000\n",
       "3943    77200000\n",
       "1642    36000000\n",
       "2483    29000000\n",
       "Name: price, Length: 800, dtype: int64"
      ]
     },
     "execution_count": 31,
     "metadata": {},
     "output_type": "execute_result"
    }
   ],
   "source": [
    "y_test"
   ]
  },
  {
   "cell_type": "code",
   "execution_count": 32,
   "id": "f5305c87",
   "metadata": {},
   "outputs": [],
   "source": [
    "import numpy as np\n",
    "def predict_price(location,area,bhk):    \n",
    "    loc_index = np.where(x.columns==location)[0][0]\n",
    "\n",
    "    X = np.zeros(len(x.columns))\n",
    "    X[0] = area\n",
    "    X[1] = bhk\n",
    "    if loc_index >= 0:\n",
    "        X[loc_index] = 1\n",
    "\n",
    "    return ridge_reg.predict([X])[0]"
   ]
  },
  {
   "cell_type": "code",
   "execution_count": 33,
   "id": "c915378e",
   "metadata": {},
   "outputs": [
    {
     "name": "stderr",
     "output_type": "stream",
     "text": [
      "C:\\Users\\admin\\AppData\\Roaming\\Python\\Python310\\site-packages\\sklearn\\base.py:450: UserWarning: X does not have valid feature names, but Ridge was fitted with feature names\n",
      "  warnings.warn(\n"
     ]
    },
    {
     "data": {
      "text/plain": [
       "10249163.024338473"
      ]
     },
     "execution_count": 33,
     "metadata": {},
     "output_type": "execute_result"
    }
   ],
   "source": [
    "predict_price(\"Borivali West\",459,1)"
   ]
  },
  {
   "cell_type": "code",
   "execution_count": 34,
   "id": "c2114b7b",
   "metadata": {},
   "outputs": [
    {
     "name": "stderr",
     "output_type": "stream",
     "text": [
      "C:\\Users\\admin\\AppData\\Roaming\\Python\\Python310\\site-packages\\sklearn\\base.py:450: UserWarning: X does not have valid feature names, but Ridge was fitted with feature names\n",
      "  warnings.warn(\n"
     ]
    },
    {
     "data": {
      "text/plain": [
       "15519300.44820967"
      ]
     },
     "execution_count": 34,
     "metadata": {},
     "output_type": "execute_result"
    }
   ],
   "source": [
    "predict_price(\"Thane West\",1000,2)"
   ]
  },
  {
   "cell_type": "code",
   "execution_count": 35,
   "id": "80c51c2d",
   "metadata": {},
   "outputs": [
    {
     "name": "stderr",
     "output_type": "stream",
     "text": [
      "C:\\Users\\admin\\AppData\\Roaming\\Python\\Python310\\site-packages\\sklearn\\base.py:450: UserWarning: X does not have valid feature names, but Ridge was fitted with feature names\n",
      "  warnings.warn(\n"
     ]
    },
    {
     "data": {
      "text/plain": [
       "1816319.8356902814"
      ]
     },
     "execution_count": 35,
     "metadata": {},
     "output_type": "execute_result"
    }
   ],
   "source": [
    "predict_price(\"Dombivali\",700,1)"
   ]
  },
  {
   "cell_type": "code",
   "execution_count": 36,
   "id": "c515aa91",
   "metadata": {},
   "outputs": [
    {
     "name": "stderr",
     "output_type": "stream",
     "text": [
      "C:\\Users\\admin\\AppData\\Roaming\\Python\\Python310\\site-packages\\sklearn\\base.py:450: UserWarning: X does not have valid feature names, but Ridge was fitted with feature names\n",
      "  warnings.warn(\n"
     ]
    },
    {
     "data": {
      "text/plain": [
       "6370721.502279872"
      ]
     },
     "execution_count": 36,
     "metadata": {},
     "output_type": "execute_result"
    }
   ],
   "source": [
    "predict_price(\"Mira Road East\",800,2)"
   ]
  },
  {
   "cell_type": "code",
   "execution_count": 37,
   "id": "3fa426d4",
   "metadata": {},
   "outputs": [
    {
     "name": "stderr",
     "output_type": "stream",
     "text": [
      "C:\\Users\\admin\\AppData\\Roaming\\Python\\Python310\\site-packages\\sklearn\\base.py:450: UserWarning: X does not have valid feature names, but Ridge was fitted with feature names\n",
      "  warnings.warn(\n"
     ]
    },
    {
     "data": {
      "text/plain": [
       "7975047.994849224"
      ]
     },
     "execution_count": 37,
     "metadata": {},
     "output_type": "execute_result"
    }
   ],
   "source": [
    "predict_price(\"Thane East\", 500,1)"
   ]
  },
  {
   "cell_type": "code",
   "execution_count": 38,
   "id": "388e5d83",
   "metadata": {},
   "outputs": [
    {
     "data": {
      "text/plain": [
       "['Mumbai house price prediction model.pkl']"
      ]
     },
     "execution_count": 38,
     "metadata": {},
     "output_type": "execute_result"
    }
   ],
   "source": [
    "import joblib\n",
    "joblib.dump(lr, \"Mumbai house price prediction model.pkl\")"
   ]
  }
 ],
 "metadata": {
  "kernelspec": {
   "display_name": "Python 3 (ipykernel)",
   "language": "python",
   "name": "python3"
  },
  "language_info": {
   "codemirror_mode": {
    "name": "ipython",
    "version": 3
   },
   "file_extension": ".py",
   "mimetype": "text/x-python",
   "name": "python",
   "nbconvert_exporter": "python",
   "pygments_lexer": "ipython3",
   "version": "3.10.1"
  }
 },
 "nbformat": 4,
 "nbformat_minor": 5
}
